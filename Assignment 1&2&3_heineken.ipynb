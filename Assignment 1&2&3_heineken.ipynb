{
 "cells": [
  {
   "cell_type": "markdown",
   "id": "cd0245da",
   "metadata": {},
   "source": [
    "# Assignment 1"
   ]
  },
  {
   "cell_type": "markdown",
   "id": "7e005dde",
   "metadata": {},
   "source": [
    "## Data cleaning\n",
    "- Read in and merge the two data sets (tip: think of different CSV formats that exist)\n",
    "- Clean the data: remove impossible values\n",
    "- Create the variable mean steps per participant. Hint: combine Pandas .loc and .mean() with the right axis argument (axis=....) for mean(). Look up the documentation of .loc and Pandas .mean() if you're unsure. \n",
    "- Show the head() of the resulting data frame"
   ]
  },
  {
   "cell_type": "code",
   "execution_count": 159,
   "id": "902dac79",
   "metadata": {},
   "outputs": [
    {
     "data": {
      "text/html": [
       "<div>\n",
       "<style scoped>\n",
       "    .dataframe tbody tr th:only-of-type {\n",
       "        vertical-align: middle;\n",
       "    }\n",
       "\n",
       "    .dataframe tbody tr th {\n",
       "        vertical-align: top;\n",
       "    }\n",
       "\n",
       "    .dataframe thead th {\n",
       "        text-align: right;\n",
       "    }\n",
       "</style>\n",
       "<table border=\"1\" class=\"dataframe\">\n",
       "  <thead>\n",
       "    <tr style=\"text-align: right;\">\n",
       "      <th></th>\n",
       "      <th>id</th>\n",
       "      <th>20-6-2013</th>\n",
       "      <th>21-6-2013</th>\n",
       "      <th>22-6-2013</th>\n",
       "      <th>23-6-2013</th>\n",
       "      <th>24-6-2013</th>\n",
       "      <th>25-6-2013</th>\n",
       "      <th>26-6-2013</th>\n",
       "      <th>27-6-2013</th>\n",
       "      <th>28-6-2013</th>\n",
       "      <th>...</th>\n",
       "      <th>4-5-2014</th>\n",
       "      <th>5-5-2014</th>\n",
       "      <th>6-5-2014</th>\n",
       "      <th>7-5-2014</th>\n",
       "      <th>8-5-2014</th>\n",
       "      <th>9-5-2014</th>\n",
       "      <th>10-5-2014</th>\n",
       "      <th>11-5-2014</th>\n",
       "      <th>12-5-2014</th>\n",
       "      <th>13-5-2014</th>\n",
       "    </tr>\n",
       "  </thead>\n",
       "  <tbody>\n",
       "    <tr>\n",
       "      <th>0</th>\n",
       "      <td>1</td>\n",
       "      <td>NaN</td>\n",
       "      <td>NaN</td>\n",
       "      <td>NaN</td>\n",
       "      <td>NaN</td>\n",
       "      <td>3941.0</td>\n",
       "      <td>15733.0</td>\n",
       "      <td>9929.0</td>\n",
       "      <td>12879.0</td>\n",
       "      <td>10541.0</td>\n",
       "      <td>...</td>\n",
       "      <td>NaN</td>\n",
       "      <td>NaN</td>\n",
       "      <td>NaN</td>\n",
       "      <td>NaN</td>\n",
       "      <td>NaN</td>\n",
       "      <td>NaN</td>\n",
       "      <td>NaN</td>\n",
       "      <td>NaN</td>\n",
       "      <td>NaN</td>\n",
       "      <td>NaN</td>\n",
       "    </tr>\n",
       "    <tr>\n",
       "      <th>1</th>\n",
       "      <td>2</td>\n",
       "      <td>NaN</td>\n",
       "      <td>NaN</td>\n",
       "      <td>10473.0</td>\n",
       "      <td>705.0</td>\n",
       "      <td>4287.0</td>\n",
       "      <td>5507.0</td>\n",
       "      <td>4024.0</td>\n",
       "      <td>3926.0</td>\n",
       "      <td>14595.0</td>\n",
       "      <td>...</td>\n",
       "      <td>NaN</td>\n",
       "      <td>NaN</td>\n",
       "      <td>NaN</td>\n",
       "      <td>NaN</td>\n",
       "      <td>NaN</td>\n",
       "      <td>NaN</td>\n",
       "      <td>NaN</td>\n",
       "      <td>NaN</td>\n",
       "      <td>NaN</td>\n",
       "      <td>NaN</td>\n",
       "    </tr>\n",
       "    <tr>\n",
       "      <th>2</th>\n",
       "      <td>3</td>\n",
       "      <td>NaN</td>\n",
       "      <td>11428.0</td>\n",
       "      <td>12523.0</td>\n",
       "      <td>2553.0</td>\n",
       "      <td>190.0</td>\n",
       "      <td>2164.0</td>\n",
       "      <td>8185.0</td>\n",
       "      <td>9630.0</td>\n",
       "      <td>8983.0</td>\n",
       "      <td>...</td>\n",
       "      <td>3914.0</td>\n",
       "      <td>4364.0</td>\n",
       "      <td>NaN</td>\n",
       "      <td>NaN</td>\n",
       "      <td>NaN</td>\n",
       "      <td>6227.0</td>\n",
       "      <td>4567.0</td>\n",
       "      <td>2567.0</td>\n",
       "      <td>1129.0</td>\n",
       "      <td>NaN</td>\n",
       "    </tr>\n",
       "    <tr>\n",
       "      <th>3</th>\n",
       "      <td>4</td>\n",
       "      <td>NaN</td>\n",
       "      <td>NaN</td>\n",
       "      <td>NaN</td>\n",
       "      <td>NaN</td>\n",
       "      <td>NaN</td>\n",
       "      <td>NaN</td>\n",
       "      <td>NaN</td>\n",
       "      <td>NaN</td>\n",
       "      <td>NaN</td>\n",
       "      <td>...</td>\n",
       "      <td>NaN</td>\n",
       "      <td>NaN</td>\n",
       "      <td>NaN</td>\n",
       "      <td>NaN</td>\n",
       "      <td>NaN</td>\n",
       "      <td>NaN</td>\n",
       "      <td>NaN</td>\n",
       "      <td>NaN</td>\n",
       "      <td>NaN</td>\n",
       "      <td>NaN</td>\n",
       "    </tr>\n",
       "    <tr>\n",
       "      <th>4</th>\n",
       "      <td>5</td>\n",
       "      <td>NaN</td>\n",
       "      <td>NaN</td>\n",
       "      <td>NaN</td>\n",
       "      <td>NaN</td>\n",
       "      <td>NaN</td>\n",
       "      <td>NaN</td>\n",
       "      <td>NaN</td>\n",
       "      <td>NaN</td>\n",
       "      <td>NaN</td>\n",
       "      <td>...</td>\n",
       "      <td>NaN</td>\n",
       "      <td>NaN</td>\n",
       "      <td>NaN</td>\n",
       "      <td>NaN</td>\n",
       "      <td>NaN</td>\n",
       "      <td>NaN</td>\n",
       "      <td>NaN</td>\n",
       "      <td>NaN</td>\n",
       "      <td>NaN</td>\n",
       "      <td>NaN</td>\n",
       "    </tr>\n",
       "  </tbody>\n",
       "</table>\n",
       "<p>5 rows × 329 columns</p>\n",
       "</div>"
      ],
      "text/plain": [
       "   id  20-6-2013  21-6-2013  22-6-2013  23-6-2013  24-6-2013  25-6-2013  \\\n",
       "0   1        NaN        NaN        NaN        NaN     3941.0    15733.0   \n",
       "1   2        NaN        NaN    10473.0      705.0     4287.0     5507.0   \n",
       "2   3        NaN    11428.0    12523.0     2553.0      190.0     2164.0   \n",
       "3   4        NaN        NaN        NaN        NaN        NaN        NaN   \n",
       "4   5        NaN        NaN        NaN        NaN        NaN        NaN   \n",
       "\n",
       "   26-6-2013  27-6-2013  28-6-2013  ...  4-5-2014  5-5-2014  6-5-2014  \\\n",
       "0     9929.0    12879.0    10541.0  ...       NaN       NaN       NaN   \n",
       "1     4024.0     3926.0    14595.0  ...       NaN       NaN       NaN   \n",
       "2     8185.0     9630.0     8983.0  ...    3914.0    4364.0       NaN   \n",
       "3        NaN        NaN        NaN  ...       NaN       NaN       NaN   \n",
       "4        NaN        NaN        NaN  ...       NaN       NaN       NaN   \n",
       "\n",
       "   7-5-2014  8-5-2014  9-5-2014  10-5-2014  11-5-2014  12-5-2014  13-5-2014  \n",
       "0       NaN       NaN       NaN        NaN        NaN        NaN        NaN  \n",
       "1       NaN       NaN       NaN        NaN        NaN        NaN        NaN  \n",
       "2       NaN       NaN    6227.0     4567.0     2567.0     1129.0        NaN  \n",
       "3       NaN       NaN       NaN        NaN        NaN        NaN        NaN  \n",
       "4       NaN       NaN       NaN        NaN        NaN        NaN        NaN  \n",
       "\n",
       "[5 rows x 329 columns]"
      ]
     },
     "execution_count": 159,
     "metadata": {},
     "output_type": "execute_result"
    }
   ],
   "source": [
    "import seaborn as sns #this is the plotting library\n",
    "import pandas as pd #\"as pd\" means that we can use the abbreviation in commands\n",
    "import matplotlib.pyplot as plt #we need Matplotlib for setting the labels in the Seaborn graphs\n",
    "\n",
    "stepsdf = pd.read_csv('steps.csv', delimiter = ';')\n",
    "stepsdf.head()\n"
   ]
  },
  {
   "cell_type": "code",
   "execution_count": 160,
   "id": "262fde13",
   "metadata": {},
   "outputs": [
    {
     "name": "stdout",
     "output_type": "stream",
     "text": [
      "      id         city  gender    age  hh_size  education          education_1  \\\n",
      "0      1     Bordeaux    Male  25-34        4          4  Master or doctorate   \n",
      "1      2        Lille    Male  35-44        1          3             Bachelor   \n",
      "2      3  Montpellier    Male  25-34        2          2  Master or doctorate   \n",
      "3      4         Lyon    Male    <25        1          1             Bachelor   \n",
      "4      5  Montpellier  Female  25-34        3          4             Bachelor   \n",
      "..   ...          ...     ...    ...      ...        ...                  ...   \n",
      "924  925        Lille  Female  45-54        3          4  Master or doctorate   \n",
      "925  926        Lille    Male    <25        3          5             Bachelor   \n",
      "926  927  Montpellier    Male  35-44        2          2             Bachelor   \n",
      "927  928        Lille  Female  55-64        1          1          High school   \n",
      "928  929         Lyon    Male  25-34        2          2          High school   \n",
      "\n",
      "     height  weight  \n",
      "0     178.0    98.0  \n",
      "1     180.0    77.0  \n",
      "2     180.0    83.0  \n",
      "3     178.0    80.0  \n",
      "4     167.0    61.0  \n",
      "..      ...     ...  \n",
      "924   165.0    59.0  \n",
      "925   192.0    90.0  \n",
      "926   181.0    71.0  \n",
      "927   172.0    65.0  \n",
      "928   180.0    76.0  \n",
      "\n",
      "[929 rows x 9 columns]\n"
     ]
    }
   ],
   "source": [
    "metadf = pd.read_csv('survey.csv')\n",
    "print(metadf)\n"
   ]
  },
  {
   "cell_type": "markdown",
   "id": "867c93a9",
   "metadata": {},
   "source": [
    "Drop all missing values of this table because for the categorial variables\n",
    "#education\n",
    "#gender\n",
    "#city\n",
    "#age"
   ]
  },
  {
   "cell_type": "code",
   "execution_count": 161,
   "id": "a7fe16d4",
   "metadata": {},
   "outputs": [
    {
     "data": {
      "text/plain": [
       "Male      494\n",
       "Female    435\n",
       "Name: gender, dtype: int64"
      ]
     },
     "execution_count": 161,
     "metadata": {},
     "output_type": "execute_result"
    }
   ],
   "source": [
    "pd.value_counts(metadf[\"gender\"]) #doesnt need cleaning"
   ]
  },
  {
   "cell_type": "code",
   "execution_count": 162,
   "id": "972a1904",
   "metadata": {},
   "outputs": [
    {
     "data": {
      "text/plain": [
       "Lille          505\n",
       "Montpellier    153\n",
       "Lyon           142\n",
       "Bordeaux       129\n",
       "Name: city, dtype: int64"
      ]
     },
     "execution_count": 162,
     "metadata": {},
     "output_type": "execute_result"
    }
   ],
   "source": [
    "pd.value_counts(metadf[\"city\"]) #neither\n",
    "\n"
   ]
  },
  {
   "cell_type": "code",
   "execution_count": 163,
   "id": "433f9a60",
   "metadata": {},
   "outputs": [
    {
     "data": {
      "text/plain": [
       "2    333\n",
       "4    287\n",
       "1    234\n",
       "5     39\n",
       "3     36\n",
       "Name: education, dtype: int64"
      ]
     },
     "execution_count": 163,
     "metadata": {},
     "output_type": "execute_result"
    }
   ],
   "source": [
    "pd.value_counts(metadf[\"education\"])"
   ]
  },
  {
   "cell_type": "code",
   "execution_count": 164,
   "id": "0e5ae40c",
   "metadata": {},
   "outputs": [
    {
     "data": {
      "text/plain": [
       "Master or doctorate    412\n",
       "Bachelor               357\n",
       "High school            106\n",
       "Vocational              40\n",
       "Primary                 13\n",
       "No degree                1\n",
       "Name: education_1, dtype: int64"
      ]
     },
     "execution_count": 164,
     "metadata": {},
     "output_type": "execute_result"
    }
   ],
   "source": [
    "pd.value_counts(metadf[\"education_1\"]) #no degree is missing in the \"numeric\" variable "
   ]
  },
  {
   "cell_type": "code",
   "execution_count": 165,
   "id": "9f07d020",
   "metadata": {},
   "outputs": [
    {
     "data": {
      "text/html": [
       "<div>\n",
       "<style scoped>\n",
       "    .dataframe tbody tr th:only-of-type {\n",
       "        vertical-align: middle;\n",
       "    }\n",
       "\n",
       "    .dataframe tbody tr th {\n",
       "        vertical-align: top;\n",
       "    }\n",
       "\n",
       "    .dataframe thead th {\n",
       "        text-align: right;\n",
       "    }\n",
       "</style>\n",
       "<table border=\"1\" class=\"dataframe\">\n",
       "  <thead>\n",
       "    <tr style=\"text-align: right;\">\n",
       "      <th></th>\n",
       "      <th>id</th>\n",
       "      <th>20-6-2013</th>\n",
       "      <th>21-6-2013</th>\n",
       "      <th>22-6-2013</th>\n",
       "      <th>23-6-2013</th>\n",
       "      <th>24-6-2013</th>\n",
       "      <th>25-6-2013</th>\n",
       "      <th>26-6-2013</th>\n",
       "      <th>27-6-2013</th>\n",
       "      <th>28-6-2013</th>\n",
       "      <th>...</th>\n",
       "      <th>12-5-2014</th>\n",
       "      <th>13-5-2014</th>\n",
       "      <th>city</th>\n",
       "      <th>gender</th>\n",
       "      <th>age</th>\n",
       "      <th>hh_size</th>\n",
       "      <th>education</th>\n",
       "      <th>education_1</th>\n",
       "      <th>height</th>\n",
       "      <th>weight</th>\n",
       "    </tr>\n",
       "  </thead>\n",
       "  <tbody>\n",
       "    <tr>\n",
       "      <th>0</th>\n",
       "      <td>1</td>\n",
       "      <td>NaN</td>\n",
       "      <td>NaN</td>\n",
       "      <td>NaN</td>\n",
       "      <td>NaN</td>\n",
       "      <td>3941.0</td>\n",
       "      <td>15733.0</td>\n",
       "      <td>9929.0</td>\n",
       "      <td>12879.0</td>\n",
       "      <td>10541.0</td>\n",
       "      <td>...</td>\n",
       "      <td>NaN</td>\n",
       "      <td>NaN</td>\n",
       "      <td>Bordeaux</td>\n",
       "      <td>Male</td>\n",
       "      <td>25-34</td>\n",
       "      <td>4</td>\n",
       "      <td>4</td>\n",
       "      <td>Master or doctorate</td>\n",
       "      <td>178.0</td>\n",
       "      <td>98.0</td>\n",
       "    </tr>\n",
       "    <tr>\n",
       "      <th>1</th>\n",
       "      <td>2</td>\n",
       "      <td>NaN</td>\n",
       "      <td>NaN</td>\n",
       "      <td>10473.0</td>\n",
       "      <td>705.0</td>\n",
       "      <td>4287.0</td>\n",
       "      <td>5507.0</td>\n",
       "      <td>4024.0</td>\n",
       "      <td>3926.0</td>\n",
       "      <td>14595.0</td>\n",
       "      <td>...</td>\n",
       "      <td>NaN</td>\n",
       "      <td>NaN</td>\n",
       "      <td>Lille</td>\n",
       "      <td>Male</td>\n",
       "      <td>35-44</td>\n",
       "      <td>1</td>\n",
       "      <td>3</td>\n",
       "      <td>Bachelor</td>\n",
       "      <td>180.0</td>\n",
       "      <td>77.0</td>\n",
       "    </tr>\n",
       "    <tr>\n",
       "      <th>2</th>\n",
       "      <td>3</td>\n",
       "      <td>NaN</td>\n",
       "      <td>11428.0</td>\n",
       "      <td>12523.0</td>\n",
       "      <td>2553.0</td>\n",
       "      <td>190.0</td>\n",
       "      <td>2164.0</td>\n",
       "      <td>8185.0</td>\n",
       "      <td>9630.0</td>\n",
       "      <td>8983.0</td>\n",
       "      <td>...</td>\n",
       "      <td>1129.0</td>\n",
       "      <td>NaN</td>\n",
       "      <td>Montpellier</td>\n",
       "      <td>Male</td>\n",
       "      <td>25-34</td>\n",
       "      <td>2</td>\n",
       "      <td>2</td>\n",
       "      <td>Master or doctorate</td>\n",
       "      <td>180.0</td>\n",
       "      <td>83.0</td>\n",
       "    </tr>\n",
       "    <tr>\n",
       "      <th>3</th>\n",
       "      <td>4</td>\n",
       "      <td>NaN</td>\n",
       "      <td>NaN</td>\n",
       "      <td>NaN</td>\n",
       "      <td>NaN</td>\n",
       "      <td>NaN</td>\n",
       "      <td>NaN</td>\n",
       "      <td>NaN</td>\n",
       "      <td>NaN</td>\n",
       "      <td>NaN</td>\n",
       "      <td>...</td>\n",
       "      <td>NaN</td>\n",
       "      <td>NaN</td>\n",
       "      <td>Lyon</td>\n",
       "      <td>Male</td>\n",
       "      <td>&lt;25</td>\n",
       "      <td>1</td>\n",
       "      <td>1</td>\n",
       "      <td>Bachelor</td>\n",
       "      <td>178.0</td>\n",
       "      <td>80.0</td>\n",
       "    </tr>\n",
       "    <tr>\n",
       "      <th>4</th>\n",
       "      <td>5</td>\n",
       "      <td>NaN</td>\n",
       "      <td>NaN</td>\n",
       "      <td>NaN</td>\n",
       "      <td>NaN</td>\n",
       "      <td>NaN</td>\n",
       "      <td>NaN</td>\n",
       "      <td>NaN</td>\n",
       "      <td>NaN</td>\n",
       "      <td>NaN</td>\n",
       "      <td>...</td>\n",
       "      <td>NaN</td>\n",
       "      <td>NaN</td>\n",
       "      <td>Montpellier</td>\n",
       "      <td>Female</td>\n",
       "      <td>25-34</td>\n",
       "      <td>3</td>\n",
       "      <td>4</td>\n",
       "      <td>Bachelor</td>\n",
       "      <td>167.0</td>\n",
       "      <td>61.0</td>\n",
       "    </tr>\n",
       "  </tbody>\n",
       "</table>\n",
       "<p>5 rows × 337 columns</p>\n",
       "</div>"
      ],
      "text/plain": [
       "   id  20-6-2013  21-6-2013  22-6-2013  23-6-2013  24-6-2013  25-6-2013  \\\n",
       "0   1        NaN        NaN        NaN        NaN     3941.0    15733.0   \n",
       "1   2        NaN        NaN    10473.0      705.0     4287.0     5507.0   \n",
       "2   3        NaN    11428.0    12523.0     2553.0      190.0     2164.0   \n",
       "3   4        NaN        NaN        NaN        NaN        NaN        NaN   \n",
       "4   5        NaN        NaN        NaN        NaN        NaN        NaN   \n",
       "\n",
       "   26-6-2013  27-6-2013  28-6-2013  ...  12-5-2014  13-5-2014         city  \\\n",
       "0     9929.0    12879.0    10541.0  ...        NaN        NaN     Bordeaux   \n",
       "1     4024.0     3926.0    14595.0  ...        NaN        NaN        Lille   \n",
       "2     8185.0     9630.0     8983.0  ...     1129.0        NaN  Montpellier   \n",
       "3        NaN        NaN        NaN  ...        NaN        NaN         Lyon   \n",
       "4        NaN        NaN        NaN  ...        NaN        NaN  Montpellier   \n",
       "\n",
       "   gender    age  hh_size  education          education_1  height  weight  \n",
       "0    Male  25-34        4          4  Master or doctorate   178.0    98.0  \n",
       "1    Male  35-44        1          3             Bachelor   180.0    77.0  \n",
       "2    Male  25-34        2          2  Master or doctorate   180.0    83.0  \n",
       "3    Male    <25        1          1             Bachelor   178.0    80.0  \n",
       "4  Female  25-34        3          4             Bachelor   167.0    61.0  \n",
       "\n",
       "[5 rows x 337 columns]"
      ]
     },
     "execution_count": 165,
     "metadata": {},
     "output_type": "execute_result"
    }
   ],
   "source": [
    "stepmeta = pd.merge(stepsdf, metadf, on = 'id') #id is the key for the tables\n",
    "stepmeta.head()"
   ]
  },
  {
   "cell_type": "markdown",
   "id": "85a0f3d9",
   "metadata": {},
   "source": [
    "Variables to clean:\n",
    "#weight\n",
    "#height\n",
    "#adding hh_size\n",
    "\n",
    "What does hh_size? Looked it up in the original study:\n",
    "https://pubmed.ncbi.nlm.nih.gov/29084709/#:~:text=The%20most%20important%20determinants%20are,related%20aspects%20of%20activity%20trackers.\n",
    "\n",
    "-> Houshold Size (Number of people, who live in a household)\n"
   ]
  },
  {
   "cell_type": "code",
   "execution_count": 166,
   "id": "d74e173a",
   "metadata": {},
   "outputs": [
    {
     "name": "stdout",
     "output_type": "stream",
     "text": [
      "count    927.000000\n",
      "mean      72.833873\n",
      "std       25.902717\n",
      "min        6.000000\n",
      "25%       61.000000\n",
      "50%       71.000000\n",
      "75%       81.000000\n",
      "max      700.000000\n",
      "Name: weight, dtype: float64\n"
     ]
    }
   ],
   "source": [
    "print(stepmeta['weight'].describe())"
   ]
  },
  {
   "cell_type": "markdown",
   "id": "7e3ed956",
   "metadata": {},
   "source": [
    "The min and max shows that there are some values that are not realistic.\n",
    "For weight the assumption has been made that a person weights less than 635kg because the heaviest man ever weighted that.\n",
    "And for the minimum is nessacary to look which data point are actually realistic.\n",
    "\n",
    "To calculate the BMI is one Indicator to see if a weight is unrealistic in relation to the weight for the lower values.\n",
    "Calculate the BMI with the Fomular: \n",
    "\n",
    "$BMI = weight/height²$\n",
    "\n",
    "A Score under 13 is impossible. Thus remove the weight for that column.\n",
    "\n"
   ]
  },
  {
   "cell_type": "code",
   "execution_count": 167,
   "id": "89d374f6",
   "metadata": {},
   "outputs": [
    {
     "name": "stdout",
     "output_type": "stream",
     "text": [
      "      id  20-6-2013  21-6-2013  22-6-2013  23-6-2013  24-6-2013  25-6-2013  \\\n",
      "0      1        NaN        NaN        NaN        NaN     3941.0    15733.0   \n",
      "1      2        NaN        NaN    10473.0      705.0     4287.0     5507.0   \n",
      "2      3        NaN    11428.0    12523.0     2553.0      190.0     2164.0   \n",
      "3      4        NaN        NaN        NaN        NaN        NaN        NaN   \n",
      "4      5        NaN        NaN        NaN        NaN        NaN        NaN   \n",
      "..   ...        ...        ...        ...        ...        ...        ...   \n",
      "924  925        NaN     4571.0    10471.0     5899.0    15295.0     9178.0   \n",
      "925  926        NaN        NaN        NaN        NaN        NaN        NaN   \n",
      "926  927        NaN        NaN        NaN     1623.0        NaN        NaN   \n",
      "927  928        NaN        NaN    14411.0    14364.0    26629.0    13092.0   \n",
      "928  929        NaN     3324.0     4507.0    14364.0     4098.0     7299.0   \n",
      "\n",
      "     26-6-2013  27-6-2013  28-6-2013  ...  13-5-2014         city  gender  \\\n",
      "0       9929.0    12879.0    10541.0  ...        NaN     Bordeaux    Male   \n",
      "1       4024.0     3926.0    14595.0  ...        NaN        Lille    Male   \n",
      "2       8185.0     9630.0     8983.0  ...        NaN  Montpellier    Male   \n",
      "3          NaN        NaN        NaN  ...        NaN         Lyon    Male   \n",
      "4          NaN        NaN        NaN  ...        NaN  Montpellier  Female   \n",
      "..         ...        ...        ...  ...        ...          ...     ...   \n",
      "924     9348.0    12229.0    13767.0  ...        NaN        Lille  Female   \n",
      "925        NaN        NaN        NaN  ...        NaN        Lille    Male   \n",
      "926        NaN        NaN        NaN  ...        NaN  Montpellier    Male   \n",
      "927     9266.0    14949.0    43238.0  ...        NaN        Lille  Female   \n",
      "928    11534.0    10125.0     7700.0  ...        NaN         Lyon    Male   \n",
      "\n",
      "       age  hh_size  education          education_1  height  weight        BMI  \n",
      "0    25-34        4          4  Master or doctorate   178.0    98.0  30.930438  \n",
      "1    35-44        1          3             Bachelor   180.0    77.0  23.765432  \n",
      "2    25-34        2          2  Master or doctorate   180.0    83.0  25.617284  \n",
      "3      <25        1          1             Bachelor   178.0    80.0  25.249337  \n",
      "4    25-34        3          4             Bachelor   167.0    61.0  21.872423  \n",
      "..     ...      ...        ...                  ...     ...     ...        ...  \n",
      "924  45-54        3          4  Master or doctorate   165.0    59.0  21.671258  \n",
      "925    <25        3          5             Bachelor   192.0    90.0  24.414062  \n",
      "926  35-44        2          2             Bachelor   181.0    71.0  21.672110  \n",
      "927  55-64        1          1          High school   172.0    65.0  21.971336  \n",
      "928  25-34        2          2          High school   180.0    76.0  23.456790  \n",
      "\n",
      "[929 rows x 338 columns]\n"
     ]
    }
   ],
   "source": [
    "stepmeta['BMI'] = (stepmeta['weight'])/((stepmeta['height']/100)*(stepmeta['height']/100))\n",
    "\n",
    "print(stepmeta)"
   ]
  },
  {
   "cell_type": "code",
   "execution_count": 168,
   "id": "534bc522",
   "metadata": {},
   "outputs": [
    {
     "name": "stdout",
     "output_type": "stream",
     "text": [
      "700.0\n",
      "6.0\n",
      "20.0\n"
     ]
    },
    {
     "name": "stderr",
     "output_type": "stream",
     "text": [
      "C:\\Users\\mirih\\anaconda3\\lib\\site-packages\\pandas\\core\\indexing.py:1732: SettingWithCopyWarning: \n",
      "A value is trying to be set on a copy of a slice from a DataFrame\n",
      "\n",
      "See the caveats in the documentation: https://pandas.pydata.org/pandas-docs/stable/user_guide/indexing.html#returning-a-view-versus-a-copy\n",
      "  self._setitem_single_block(indexer, value, name)\n"
     ]
    }
   ],
   "source": [
    "#remove values over 635\n",
    "#remove the weight for columns that have a BMI under 13\n",
    "\n",
    "for id in range(len(stepmeta)):\n",
    "    if stepmeta['BMI'].loc[id] <13: \n",
    "        print(stepmeta['weight'].loc[id])\n",
    "        stepmeta['weight'].loc[id] = None\n",
    "    elif stepmeta['weight'].loc[id] >= 400:\n",
    "        print(stepmeta['weight'].loc[id])\n",
    "        stepmeta['weight'].loc[id] = None"
   ]
  },
  {
   "cell_type": "markdown",
   "id": "3c490844",
   "metadata": {},
   "source": [
    "Doing the same thing with height:\n"
   ]
  },
  {
   "cell_type": "code",
   "execution_count": 169,
   "id": "977bac48",
   "metadata": {},
   "outputs": [
    {
     "name": "stdout",
     "output_type": "stream",
     "text": [
      "count    928.000000\n",
      "mean     171.668103\n",
      "std        9.080235\n",
      "min      145.000000\n",
      "25%      165.000000\n",
      "50%      172.000000\n",
      "75%      179.000000\n",
      "max      195.000000\n",
      "Name: height, dtype: float64\n"
     ]
    }
   ],
   "source": [
    "print(stepmeta['height'].describe())"
   ]
  },
  {
   "cell_type": "code",
   "execution_count": 170,
   "id": "b390ae95",
   "metadata": {},
   "outputs": [
    {
     "name": "stderr",
     "output_type": "stream",
     "text": [
      "C:\\Users\\mirih\\anaconda3\\lib\\site-packages\\seaborn\\distributions.py:2619: FutureWarning: `distplot` is a deprecated function and will be removed in a future version. Please adapt your code to use either `displot` (a figure-level function with similar flexibility) or `histplot` (an axes-level function for histograms).\n",
      "  warnings.warn(msg, FutureWarning)\n"
     ]
    },
    {
     "data": {
      "image/png": "[encoded data removed]",
      "text/plain": [
       "<Figure size 432x288 with 1 Axes>"
      ]
     },
     "metadata": {
      "needs_background": "light"
     },
     "output_type": "display_data"
    }
   ],
   "source": [
    "sns.distplot(stepmeta['height'].dropna(), kde=False) #Selecting the rating column. I need to drop the NA's for the plot\n",
    "plt.title('Heigth Distribution')\n",
    "plt.xlabel('Height')\n",
    "plt.show()"
   ]
  },
  {
   "cell_type": "markdown",
   "id": "c5bf0d68",
   "metadata": {},
   "source": [
    "The height looks pretty realistic.\n",
    "Do the same thing for hh_size"
   ]
  },
  {
   "cell_type": "code",
   "execution_count": 171,
   "id": "c73166ee",
   "metadata": {},
   "outputs": [
    {
     "data": {
      "image/png": "[encoded data removed]",
      "text/plain": [
       "<Figure size 432x288 with 1 Axes>"
      ]
     },
     "metadata": {
      "needs_background": "light"
     },
     "output_type": "display_data"
    }
   ],
   "source": [
    "sns.distplot(stepmeta['hh_size'].dropna(), kde=False) #Selecting the rating column. I need to drop the NA's for the plot\n",
    "plt.title('Housholdsize Distribution')\n",
    "plt.xlabel('Number of people')\n",
    "plt.show()"
   ]
  },
  {
   "cell_type": "code",
   "execution_count": 172,
   "id": "11209b1a",
   "metadata": {},
   "outputs": [
    {
     "data": {
      "text/html": [
       "<div>\n",
       "<style scoped>\n",
       "    .dataframe tbody tr th:only-of-type {\n",
       "        vertical-align: middle;\n",
       "    }\n",
       "\n",
       "    .dataframe tbody tr th {\n",
       "        vertical-align: top;\n",
       "    }\n",
       "\n",
       "    .dataframe thead th {\n",
       "        text-align: right;\n",
       "    }\n",
       "</style>\n",
       "<table border=\"1\" class=\"dataframe\">\n",
       "  <thead>\n",
       "    <tr style=\"text-align: right;\">\n",
       "      <th></th>\n",
       "      <th>id</th>\n",
       "      <th>20-6-2013</th>\n",
       "      <th>21-6-2013</th>\n",
       "      <th>22-6-2013</th>\n",
       "      <th>23-6-2013</th>\n",
       "      <th>24-6-2013</th>\n",
       "      <th>25-6-2013</th>\n",
       "      <th>26-6-2013</th>\n",
       "      <th>27-6-2013</th>\n",
       "      <th>28-6-2013</th>\n",
       "      <th>...</th>\n",
       "      <th>city</th>\n",
       "      <th>gender</th>\n",
       "      <th>age</th>\n",
       "      <th>hh_size</th>\n",
       "      <th>education</th>\n",
       "      <th>education_1</th>\n",
       "      <th>height</th>\n",
       "      <th>weight</th>\n",
       "      <th>BMI</th>\n",
       "      <th>spd_mean</th>\n",
       "    </tr>\n",
       "  </thead>\n",
       "  <tbody>\n",
       "    <tr>\n",
       "      <th>0</th>\n",
       "      <td>1</td>\n",
       "      <td>NaN</td>\n",
       "      <td>NaN</td>\n",
       "      <td>NaN</td>\n",
       "      <td>NaN</td>\n",
       "      <td>3941.0</td>\n",
       "      <td>15733.0</td>\n",
       "      <td>9929.0</td>\n",
       "      <td>12879.0</td>\n",
       "      <td>10541.0</td>\n",
       "      <td>...</td>\n",
       "      <td>Bordeaux</td>\n",
       "      <td>Male</td>\n",
       "      <td>25-34</td>\n",
       "      <td>4</td>\n",
       "      <td>4</td>\n",
       "      <td>Master or doctorate</td>\n",
       "      <td>178.0</td>\n",
       "      <td>98.0</td>\n",
       "      <td>30.930438</td>\n",
       "      <td>10205.521212</td>\n",
       "    </tr>\n",
       "    <tr>\n",
       "      <th>1</th>\n",
       "      <td>2</td>\n",
       "      <td>NaN</td>\n",
       "      <td>NaN</td>\n",
       "      <td>10473.0</td>\n",
       "      <td>705.0</td>\n",
       "      <td>4287.0</td>\n",
       "      <td>5507.0</td>\n",
       "      <td>4024.0</td>\n",
       "      <td>3926.0</td>\n",
       "      <td>14595.0</td>\n",
       "      <td>...</td>\n",
       "      <td>Lille</td>\n",
       "      <td>Male</td>\n",
       "      <td>35-44</td>\n",
       "      <td>1</td>\n",
       "      <td>3</td>\n",
       "      <td>Bachelor</td>\n",
       "      <td>180.0</td>\n",
       "      <td>77.0</td>\n",
       "      <td>23.765432</td>\n",
       "      <td>5687.423313</td>\n",
       "    </tr>\n",
       "    <tr>\n",
       "      <th>2</th>\n",
       "      <td>3</td>\n",
       "      <td>NaN</td>\n",
       "      <td>11428.0</td>\n",
       "      <td>12523.0</td>\n",
       "      <td>2553.0</td>\n",
       "      <td>190.0</td>\n",
       "      <td>2164.0</td>\n",
       "      <td>8185.0</td>\n",
       "      <td>9630.0</td>\n",
       "      <td>8983.0</td>\n",
       "      <td>...</td>\n",
       "      <td>Montpellier</td>\n",
       "      <td>Male</td>\n",
       "      <td>25-34</td>\n",
       "      <td>2</td>\n",
       "      <td>2</td>\n",
       "      <td>Master or doctorate</td>\n",
       "      <td>180.0</td>\n",
       "      <td>83.0</td>\n",
       "      <td>25.617284</td>\n",
       "      <td>8301.729730</td>\n",
       "    </tr>\n",
       "    <tr>\n",
       "      <th>3</th>\n",
       "      <td>4</td>\n",
       "      <td>NaN</td>\n",
       "      <td>NaN</td>\n",
       "      <td>NaN</td>\n",
       "      <td>NaN</td>\n",
       "      <td>NaN</td>\n",
       "      <td>NaN</td>\n",
       "      <td>NaN</td>\n",
       "      <td>NaN</td>\n",
       "      <td>NaN</td>\n",
       "      <td>...</td>\n",
       "      <td>Lyon</td>\n",
       "      <td>Male</td>\n",
       "      <td>&lt;25</td>\n",
       "      <td>1</td>\n",
       "      <td>1</td>\n",
       "      <td>Bachelor</td>\n",
       "      <td>178.0</td>\n",
       "      <td>80.0</td>\n",
       "      <td>25.249337</td>\n",
       "      <td>3633.200000</td>\n",
       "    </tr>\n",
       "    <tr>\n",
       "      <th>4</th>\n",
       "      <td>5</td>\n",
       "      <td>NaN</td>\n",
       "      <td>NaN</td>\n",
       "      <td>NaN</td>\n",
       "      <td>NaN</td>\n",
       "      <td>NaN</td>\n",
       "      <td>NaN</td>\n",
       "      <td>NaN</td>\n",
       "      <td>NaN</td>\n",
       "      <td>NaN</td>\n",
       "      <td>...</td>\n",
       "      <td>Montpellier</td>\n",
       "      <td>Female</td>\n",
       "      <td>25-34</td>\n",
       "      <td>3</td>\n",
       "      <td>4</td>\n",
       "      <td>Bachelor</td>\n",
       "      <td>167.0</td>\n",
       "      <td>61.0</td>\n",
       "      <td>21.872423</td>\n",
       "      <td>5312.129630</td>\n",
       "    </tr>\n",
       "  </tbody>\n",
       "</table>\n",
       "<p>5 rows × 339 columns</p>\n",
       "</div>"
      ],
      "text/plain": [
       "   id  20-6-2013  21-6-2013  22-6-2013  23-6-2013  24-6-2013  25-6-2013  \\\n",
       "0   1        NaN        NaN        NaN        NaN     3941.0    15733.0   \n",
       "1   2        NaN        NaN    10473.0      705.0     4287.0     5507.0   \n",
       "2   3        NaN    11428.0    12523.0     2553.0      190.0     2164.0   \n",
       "3   4        NaN        NaN        NaN        NaN        NaN        NaN   \n",
       "4   5        NaN        NaN        NaN        NaN        NaN        NaN   \n",
       "\n",
       "   26-6-2013  27-6-2013  28-6-2013  ...         city  gender    age  hh_size  \\\n",
       "0     9929.0    12879.0    10541.0  ...     Bordeaux    Male  25-34        4   \n",
       "1     4024.0     3926.0    14595.0  ...        Lille    Male  35-44        1   \n",
       "2     8185.0     9630.0     8983.0  ...  Montpellier    Male  25-34        2   \n",
       "3        NaN        NaN        NaN  ...         Lyon    Male    <25        1   \n",
       "4        NaN        NaN        NaN  ...  Montpellier  Female  25-34        3   \n",
       "\n",
       "   education          education_1  height  weight        BMI      spd_mean  \n",
       "0          4  Master or doctorate   178.0    98.0  30.930438  10205.521212  \n",
       "1          3             Bachelor   180.0    77.0  23.765432   5687.423313  \n",
       "2          2  Master or doctorate   180.0    83.0  25.617284   8301.729730  \n",
       "3          1             Bachelor   178.0    80.0  25.249337   3633.200000  \n",
       "4          4             Bachelor   167.0    61.0  21.872423   5312.129630  \n",
       "\n",
       "[5 rows x 339 columns]"
      ]
     },
     "execution_count": 172,
     "metadata": {},
     "output_type": "execute_result"
    }
   ],
   "source": [
    "#Create the variable mean steps per participant:\n",
    "stepmeta['spd_mean'] = stepmeta.loc[:,'20-6-2013':'13-5-2014'].mean(axis=1)\n",
    "\n",
    "#print this dataframe\n",
    "stepmeta.head()"
   ]
  },
  {
   "cell_type": "markdown",
   "id": "47b0fa89",
   "metadata": {},
   "source": [
    "With this methode we treate the NaN as nonexistent because we dont know what happens there. \n",
    "However, people could have the tendency to do more steps when they putting on their wrist (because it motivates them)\n",
    "or putting the wrist on for days with higher tendency for walking around.\n",
    "This could lead to a distortion. An alternative would be to replace the values with a 0, which again would lead to a massive distortion.\n",
    "This bias should be taken into account in the interpretation, because if this applies it is more likely that the average number of steps is overestimated rather than underestimated. "
   ]
  },
  {
   "cell_type": "markdown",
   "id": "2652d23d",
   "metadata": {},
   "source": [
    "## Exploratory data analysis\n",
    "- An analysis of mean steps per participant:\n",
    "- Graph of the distribution (e.g., histogram, box plot, density plot, violin plot)\n",
    "- Summary statistics (measure of central tendency and variation, e.g., mean, median, variance)\n",
    "- Verbal description of the distribution, including commenting on normality, skewness, outliers, etc."
   ]
  },
  {
   "cell_type": "markdown",
   "id": "0ad675d3",
   "metadata": {},
   "source": [
    "Can plot the new variable spd_mean ('Stepsperday_mean) in a histogram with mean and median of the variable:"
   ]
  },
  {
   "cell_type": "code",
   "execution_count": 173,
   "id": "a3041f34",
   "metadata": {},
   "outputs": [
    {
     "name": "stderr",
     "output_type": "stream",
     "text": [
      "C:\\Users\\mirih\\anaconda3\\lib\\site-packages\\seaborn\\distributions.py:2619: FutureWarning: `distplot` is a deprecated function and will be removed in a future version. Please adapt your code to use either `displot` (a figure-level function with similar flexibility) or `histplot` (an axes-level function for histograms).\n",
      "  warnings.warn(msg, FutureWarning)\n"
     ]
    },
    {
     "data": {
      "image/png": "[encoded data removed]",
      "text/plain": [
       "<Figure size 432x288 with 1 Axes>"
      ]
     },
     "metadata": {
      "needs_background": "light"
     },
     "output_type": "display_data"
    }
   ],
   "source": [
    "mean_spd = stepmeta['spd_mean'].mean()\n",
    "median_spd = stepmeta['spd_mean'].median()\n",
    "\n",
    "\n",
    "sns.distplot(stepmeta['spd_mean'], kde=False)\n",
    "plt.title('Avarage steps per day')\n",
    "plt.axvline(median_spd, 0, 100, color='green', label='median') #vertical line for the median\n",
    "plt.axvline(mean_spd, 0, 100, color='blue', label='mean') #same for the mean\n",
    "plt.legend() #legend of median and mean\n",
    "plt.show()"
   ]
  },
  {
   "cell_type": "markdown",
   "id": "e214570a",
   "metadata": {},
   "source": [
    "The data showed a outliner around 200 000 steps per day. That is unrealistic. Let's get ride of those. 250 00 are approx. 19-20km depeding on step lenght, which is even incredible much for a avarage per day, thus I will remove every id that has a score over that value. \n",
    ". Note: For interpretation purposes: Every results then only applies for people that walk less than 250 00 Steps per Day."
   ]
  },
  {
   "cell_type": "code",
   "execution_count": 174,
   "id": "df717781",
   "metadata": {},
   "outputs": [
    {
     "data": {
      "image/png": "[encoded data removed]",
      "text/plain": [
       "<Figure size 432x288 with 1 Axes>"
      ]
     },
     "metadata": {
      "needs_background": "light"
     },
     "output_type": "display_data"
    }
   ],
   "source": [
    "stepmeta = stepmeta[stepmeta['spd_mean']<25000]\n",
    "\n",
    "mean_spd = stepmeta['spd_mean'].mean()\n",
    "median_spd = stepmeta['spd_mean'].median()\n",
    "\n",
    "sns.distplot(stepmeta['spd_mean'], kde=False)\n",
    "plt.title('Avarage steps per day')\n",
    "plt.xlabel('Steps per day ')\n",
    "plt.axvline(median_spd, 0, 100, color='green', label='median') #vertical line for the median\n",
    "plt.axvline(mean_spd, 0, 100, color='blue', label='mean') #same for the mean\n",
    "plt.legend() #legend of median and mean\n",
    "plt.show()"
   ]
  },
  {
   "cell_type": "code",
   "execution_count": 175,
   "id": "645ca167",
   "metadata": {},
   "outputs": [
    {
     "name": "stdout",
     "output_type": "stream",
     "text": [
      "921\n",
      "6703.996351176375\n",
      "6240.073033707865\n"
     ]
    }
   ],
   "source": [
    "\n",
    "count_id = stepmeta ['spd_mean'].count()\n",
    "print(count_id)\n",
    "print(mean_spd)\n",
    "print(median_spd)"
   ]
  },
  {
   "cell_type": "code",
   "execution_count": 176,
   "id": "2b7b1b6f",
   "metadata": {},
   "outputs": [
    {
     "name": "stderr",
     "output_type": "stream",
     "text": [
      "C:\\Users\\mirih\\anaconda3\\lib\\site-packages\\seaborn\\_decorators.py:36: FutureWarning: Pass the following variable as a keyword arg: x. From version 0.12, the only valid positional argument will be `data`, and passing other arguments without an explicit keyword will result in an error or misinterpretation.\n",
      "  warnings.warn(\n"
     ]
    },
    {
     "data": {
      "image/png": "[encoded data removed]",
      "text/plain": [
       "<Figure size 432x288 with 1 Axes>"
      ]
     },
     "metadata": {
      "needs_background": "light"
     },
     "output_type": "display_data"
    }
   ],
   "source": [
    "sns.boxplot(stepmeta ['spd_mean'])\n",
    "plt.title('Avarage steps per day')\n",
    "plt.xlabel('Steps per day')\n",
    "plt.show()"
   ]
  },
  {
   "cell_type": "code",
   "execution_count": 177,
   "id": "32756246",
   "metadata": {},
   "outputs": [
    {
     "name": "stdout",
     "output_type": "stream",
     "text": [
      "8694607.658147227\n",
      "2948.662011514244\n"
     ]
    }
   ],
   "source": [
    "stepsd = stepmeta ['spd_mean'].std()\n",
    "stepvariance = stepmeta ['spd_mean'].var()\n",
    "print(stepvariance)\n",
    "print(stepsd)\n",
    "\n"
   ]
  },
  {
   "cell_type": "markdown",
   "id": "dadd598d",
   "metadata": {},
   "source": [
    "With a sample of $n = 921$ $(Mdn=6240.07; SD= 2948.66)$ we can see a right-skewed distribution (median is lower than mean). Where most of the people make around approx. 5000-8000 steps per day with some outliers that do a lot more steps (Note: Everything over 25 000 were filtered out, without that meassures the mean would be even higher) "
   ]
  },
  {
   "cell_type": "markdown",
   "id": "62f93d34",
   "metadata": {},
   "source": [
    "# Nominal Variables\n",
    "- The relation of mean steps per participant with two categorical variables (e.g. gender, age, education)\n",
    "- Graph of the relation (e.g. histograms, box plots, density plots, violin plots). Try a different plot this time.\n",
    "- Describe and interpret the results\n",
    "\n",
    "- See last week for the first part (distribution of steps). In addition:\n",
    "- Make a scatterplot matrix of the numerical variables\n",
    "- Make a correlation matrix of the numerical variables\n",
    "- Describe and interpret the results"
   ]
  },
  {
   "cell_type": "code",
   "execution_count": 178,
   "id": "0e7f4842",
   "metadata": {},
   "outputs": [
    {
     "data": {
      "text/plain": [
       "<seaborn.axisgrid.FacetGrid at 0x155f55206a0>"
      ]
     },
     "execution_count": 178,
     "metadata": {},
     "output_type": "execute_result"
    },
    {
     "data": {
      "image/png": "[encoded data removed]",
      "text/plain": [
       "<Figure size 432.125x360 with 1 Axes>"
      ]
     },
     "metadata": {
      "needs_background": "light"
     },
     "output_type": "display_data"
    }
   ],
   "source": [
    "sns.displot(data = stepmeta, x = 'spd_mean', hue ='gender', kind = 'kde')"
   ]
  },
  {
   "cell_type": "code",
   "execution_count": 179,
   "id": "55df0742",
   "metadata": {},
   "outputs": [
    {
     "data": {
      "image/png": "[encoded data removed]",
      "text/plain": [
       "<Figure size 360x360 with 1 Axes>"
      ]
     },
     "metadata": {
      "needs_background": "light"
     },
     "output_type": "display_data"
    }
   ],
   "source": [
    "sns.catplot(x='gender', y='spd_mean',kind ='box', data=stepmeta)\n",
    "plt.title('Steps per day and gender')\n",
    "plt.xlabel('Gender')\n",
    "plt.ylabel('Steps per day')\n",
    "plt.show()"
   ]
  },
  {
   "cell_type": "markdown",
   "id": "3db26633",
   "metadata": {},
   "source": [
    "We can see a difference in both groups: The Variance of the female group is larger, the reason could be the higher outliers for these group that we can see in the boxplot but as we can see in the first graph it is a minority of women that have in avarage more steps than the other ones, that don't occur for the male group. \n",
    "However, the difference in the boxplot is maginal and I would do a t-test to to see if the difference is significant, but for now it looks like just a higher variance for the female group.\n",
    "Which means, the average steps for men and women don't differ significantly.\n",
    "\n",
    "Redo the same thing for education\n",
    "(but have to get ride of the no degree person first)"
   ]
  },
  {
   "cell_type": "code",
   "execution_count": 180,
   "id": "79474a7c",
   "metadata": {},
   "outputs": [
    {
     "data": {
      "image/png": "[encoded data removed]",
      "text/plain": [
       "<Figure size 360x360 with 1 Axes>"
      ]
     },
     "metadata": {
      "needs_background": "light"
     },
     "output_type": "display_data"
    }
   ],
   "source": [
    "stepmeta = stepmeta[stepmeta['education_1']!='No degree']\n",
    "\n",
    "sns.catplot(x='education_1', y='spd_mean',kind ='box', data=stepmeta)\n",
    "plt.title('Steps per day and education')\n",
    "plt.xlabel('Education Level')\n",
    "plt.ylabel('Steps per day')\n",
    "plt.show()"
   ]
  },
  {
   "cell_type": "code",
   "execution_count": 181,
   "id": "c598007f",
   "metadata": {},
   "outputs": [
    {
     "data": {
      "text/plain": [
       "Text(0.5, 1.0, 'Steps per day per education')"
      ]
     },
     "execution_count": 181,
     "metadata": {},
     "output_type": "execute_result"
    },
    {
     "data": {
      "image/png": "[encoded data removed]",
      "text/plain": [
       "<Figure size 494.5x360 with 1 Axes>"
      ]
     },
     "metadata": {
      "needs_background": "light"
     },
     "output_type": "display_data"
    }
   ],
   "source": [
    "sns.displot(data = stepmeta, x = 'spd_mean', hue ='education_1', kind = 'kde')\n",
    "plt.title('Steps per day per education')\n"
   ]
  },
  {
   "cell_type": "markdown",
   "id": "965a33ba",
   "metadata": {},
   "source": [
    "We can see that the groups differ in their variance and density. I am not sure how to intreprete this. "
   ]
  },
  {
   "cell_type": "markdown",
   "id": "bdd9acff",
   "metadata": {},
   "source": [
    "## Predictive model\n",
    "- Explain linear regression in your own words: \n",
    "\n",
    "*A simple linear regression tries to provide a linear model/function for a relationship between a predictor (undependent variable) and a response (dependent variable), which can, if a linear model fits for the coherence of both variables, predict values of the other variable with a certain probability.*\n",
    "\n",
    "\n",
    "- Create dummy variables for the categorical variables"
   ]
  },
  {
   "cell_type": "code",
   "execution_count": 182,
   "id": "60009df1",
   "metadata": {},
   "outputs": [
    {
     "data": {
      "text/html": [
       "<div>\n",
       "<style scoped>\n",
       "    .dataframe tbody tr th:only-of-type {\n",
       "        vertical-align: middle;\n",
       "    }\n",
       "\n",
       "    .dataframe tbody tr th {\n",
       "        vertical-align: top;\n",
       "    }\n",
       "\n",
       "    .dataframe thead th {\n",
       "        text-align: right;\n",
       "    }\n",
       "</style>\n",
       "<table border=\"1\" class=\"dataframe\">\n",
       "  <thead>\n",
       "    <tr style=\"text-align: right;\">\n",
       "      <th></th>\n",
       "      <th>id</th>\n",
       "      <th>20-6-2013</th>\n",
       "      <th>21-6-2013</th>\n",
       "      <th>22-6-2013</th>\n",
       "      <th>23-6-2013</th>\n",
       "      <th>24-6-2013</th>\n",
       "      <th>25-6-2013</th>\n",
       "      <th>26-6-2013</th>\n",
       "      <th>27-6-2013</th>\n",
       "      <th>28-6-2013</th>\n",
       "      <th>...</th>\n",
       "      <th>age_25-34</th>\n",
       "      <th>age_35-44</th>\n",
       "      <th>age_45-54</th>\n",
       "      <th>age_55-64</th>\n",
       "      <th>age_65+</th>\n",
       "      <th>age_&lt;25</th>\n",
       "      <th>city_Bordeaux</th>\n",
       "      <th>city_Lille</th>\n",
       "      <th>city_Lyon</th>\n",
       "      <th>city_Montpellier</th>\n",
       "    </tr>\n",
       "  </thead>\n",
       "  <tbody>\n",
       "    <tr>\n",
       "      <th>0</th>\n",
       "      <td>1</td>\n",
       "      <td>NaN</td>\n",
       "      <td>NaN</td>\n",
       "      <td>NaN</td>\n",
       "      <td>NaN</td>\n",
       "      <td>3941.0</td>\n",
       "      <td>15733.0</td>\n",
       "      <td>9929.0</td>\n",
       "      <td>12879.0</td>\n",
       "      <td>10541.0</td>\n",
       "      <td>...</td>\n",
       "      <td>1</td>\n",
       "      <td>0</td>\n",
       "      <td>0</td>\n",
       "      <td>0</td>\n",
       "      <td>0</td>\n",
       "      <td>0</td>\n",
       "      <td>1</td>\n",
       "      <td>0</td>\n",
       "      <td>0</td>\n",
       "      <td>0</td>\n",
       "    </tr>\n",
       "    <tr>\n",
       "      <th>1</th>\n",
       "      <td>2</td>\n",
       "      <td>NaN</td>\n",
       "      <td>NaN</td>\n",
       "      <td>10473.0</td>\n",
       "      <td>705.0</td>\n",
       "      <td>4287.0</td>\n",
       "      <td>5507.0</td>\n",
       "      <td>4024.0</td>\n",
       "      <td>3926.0</td>\n",
       "      <td>14595.0</td>\n",
       "      <td>...</td>\n",
       "      <td>0</td>\n",
       "      <td>1</td>\n",
       "      <td>0</td>\n",
       "      <td>0</td>\n",
       "      <td>0</td>\n",
       "      <td>0</td>\n",
       "      <td>0</td>\n",
       "      <td>1</td>\n",
       "      <td>0</td>\n",
       "      <td>0</td>\n",
       "    </tr>\n",
       "    <tr>\n",
       "      <th>2</th>\n",
       "      <td>3</td>\n",
       "      <td>NaN</td>\n",
       "      <td>11428.0</td>\n",
       "      <td>12523.0</td>\n",
       "      <td>2553.0</td>\n",
       "      <td>190.0</td>\n",
       "      <td>2164.0</td>\n",
       "      <td>8185.0</td>\n",
       "      <td>9630.0</td>\n",
       "      <td>8983.0</td>\n",
       "      <td>...</td>\n",
       "      <td>1</td>\n",
       "      <td>0</td>\n",
       "      <td>0</td>\n",
       "      <td>0</td>\n",
       "      <td>0</td>\n",
       "      <td>0</td>\n",
       "      <td>0</td>\n",
       "      <td>0</td>\n",
       "      <td>0</td>\n",
       "      <td>1</td>\n",
       "    </tr>\n",
       "    <tr>\n",
       "      <th>3</th>\n",
       "      <td>4</td>\n",
       "      <td>NaN</td>\n",
       "      <td>NaN</td>\n",
       "      <td>NaN</td>\n",
       "      <td>NaN</td>\n",
       "      <td>NaN</td>\n",
       "      <td>NaN</td>\n",
       "      <td>NaN</td>\n",
       "      <td>NaN</td>\n",
       "      <td>NaN</td>\n",
       "      <td>...</td>\n",
       "      <td>0</td>\n",
       "      <td>0</td>\n",
       "      <td>0</td>\n",
       "      <td>0</td>\n",
       "      <td>0</td>\n",
       "      <td>1</td>\n",
       "      <td>0</td>\n",
       "      <td>0</td>\n",
       "      <td>1</td>\n",
       "      <td>0</td>\n",
       "    </tr>\n",
       "    <tr>\n",
       "      <th>4</th>\n",
       "      <td>5</td>\n",
       "      <td>NaN</td>\n",
       "      <td>NaN</td>\n",
       "      <td>NaN</td>\n",
       "      <td>NaN</td>\n",
       "      <td>NaN</td>\n",
       "      <td>NaN</td>\n",
       "      <td>NaN</td>\n",
       "      <td>NaN</td>\n",
       "      <td>NaN</td>\n",
       "      <td>...</td>\n",
       "      <td>1</td>\n",
       "      <td>0</td>\n",
       "      <td>0</td>\n",
       "      <td>0</td>\n",
       "      <td>0</td>\n",
       "      <td>0</td>\n",
       "      <td>0</td>\n",
       "      <td>0</td>\n",
       "      <td>0</td>\n",
       "      <td>1</td>\n",
       "    </tr>\n",
       "  </tbody>\n",
       "</table>\n",
       "<p>5 rows × 352 columns</p>\n",
       "</div>"
      ],
      "text/plain": [
       "   id  20-6-2013  21-6-2013  22-6-2013  23-6-2013  24-6-2013  25-6-2013  \\\n",
       "0   1        NaN        NaN        NaN        NaN     3941.0    15733.0   \n",
       "1   2        NaN        NaN    10473.0      705.0     4287.0     5507.0   \n",
       "2   3        NaN    11428.0    12523.0     2553.0      190.0     2164.0   \n",
       "3   4        NaN        NaN        NaN        NaN        NaN        NaN   \n",
       "4   5        NaN        NaN        NaN        NaN        NaN        NaN   \n",
       "\n",
       "   26-6-2013  27-6-2013  28-6-2013  ...  age_25-34  age_35-44  age_45-54  \\\n",
       "0     9929.0    12879.0    10541.0  ...          1          0          0   \n",
       "1     4024.0     3926.0    14595.0  ...          0          1          0   \n",
       "2     8185.0     9630.0     8983.0  ...          1          0          0   \n",
       "3        NaN        NaN        NaN  ...          0          0          0   \n",
       "4        NaN        NaN        NaN  ...          1          0          0   \n",
       "\n",
       "   age_55-64  age_65+  age_<25  city_Bordeaux  city_Lille  city_Lyon  \\\n",
       "0          0        0        0              1           0          0   \n",
       "1          0        0        0              0           1          0   \n",
       "2          0        0        0              0           0          0   \n",
       "3          0        0        1              0           0          1   \n",
       "4          0        0        0              0           0          0   \n",
       "\n",
       "   city_Montpellier  \n",
       "0                 0  \n",
       "1                 0  \n",
       "2                 1  \n",
       "3                 0  \n",
       "4                 1  \n",
       "\n",
       "[5 rows x 352 columns]"
      ]
     },
     "execution_count": 182,
     "metadata": {},
     "output_type": "execute_result"
    }
   ],
   "source": [
    "stepmeta = pd.get_dummies(stepmeta, columns = ['gender'])\n",
    "stepmeta = pd.get_dummies(stepmeta, columns = ['education_1'])\n",
    "stepmeta = pd.get_dummies(stepmeta, columns = ['age'])\n",
    "stepmeta = pd.get_dummies(stepmeta, columns = ['city'])\n",
    "\n",
    "stepmeta.head()"
   ]
  },
  {
   "cell_type": "markdown",
   "id": "4e0ab74c",
   "metadata": {},
   "source": [
    "- Fit a linear regression model to predict the mean steps per participant, using the training data. You can include all variables (easy), or you can try to find the combination that gives you the best fit (harder).\n"
   ]
  },
  {
   "cell_type": "markdown",
   "id": "f07aab3e",
   "metadata": {},
   "source": [
    "## Assign all independent variables to X \n",
    "including the dummy varibles -1 for each category (There is certainly a more mathematical way to express this).\n",
    "\n",
    "Got an error for missing values, filled the missing values with 0 with .fillna(0), that everything is a number, \n",
    "but I am sure that there has to be a better way because 0 is not the same as not existend and could influence the results.\n",
    "\n",
    "## Assign the response variabel to y\n"
   ]
  },
  {
   "cell_type": "code",
   "execution_count": 183,
   "metadata": {},
   "outputs": [],
   "source": [
    "X = stepmeta[['BMI', 'education_1_High school', 'education_1_Master or doctorate','education_1_Primary', 'education_1_Vocational', 'age_25-34', 'age_35-44', 'age_45-54', 'age_55-64', 'age_65+', 'gender_Male', 'hh_size', 'city_Bordeaux', 'city_Lyon', 'city_Montpellier']].fillna(0)\n",
    "y = stepmeta['spd_mean']"
   ]
  },
  {
   "cell_type": "markdown",
   "id": "4395657a",
   "metadata": {},
   "source": [
    "Divide Data set into training and test data with an 70/30 split, because further research/experience\n",
    "showed that this is a good proportion."
   ]
  },
  {
   "cell_type": "code",
   "execution_count": 184,
   "id": "f309b5a4",
   "metadata": {},
   "outputs": [],
   "source": [
    "from sklearn.model_selection import train_test_split #this is the function we need to split the data\n",
    "\n",
    "x_train, x_test, y_train, y_test = train_test_split(X, y, test_size = 0.3) #splits the data into train (70%) and test (30%) data"
   ]
  },
  {
   "cell_type": "markdown",
   "id": "02a1fc4a",
   "metadata": {},
   "source": [
    "import libaries for linear models"
   ]
  },
  {
   "cell_type": "code",
   "execution_count": 185,
   "id": "dbdee7ae",
   "metadata": {},
   "outputs": [],
   "source": [
    "import math\n",
    "from sklearn.linear_model import LinearRegression #remember, this is linear regression model from sk-learn\n",
    "from sklearn.metrics import mean_squared_error\n",
    "from sklearn.metrics import r2_score"
   ]
  },
  {
   "cell_type": "code",
   "execution_count": 186,
   "id": "27d0d2e6",
   "metadata": {},
   "outputs": [],
   "source": [
    "lm = LinearRegression() #create a new (empty model)\n",
    "lm = lm.fit(x_train, y_train) #fit the model WITH THE TRAIN DATA ONLY\n",
    "\n",
    "#That exactly like in the example notebook"
   ]
  },
  {
   "cell_type": "markdown",
   "id": "b2b9fad1",
   "metadata": {},
   "source": [
    "Calculate how much (the factor) a the individual predictors influences y in the calculated model. "
   ]
  },
  {
   "cell_type": "code",
   "execution_count": 187,
   "id": "08650d4b",
   "metadata": {},
   "outputs": [],
   "source": [
    "y_test_p = lm.predict(x_test) #Generate the predictions and store them in y_test_p. USE ONLY THE TEST DATA HERE"
   ]
  },
  {
   "cell_type": "markdown",
   "id": "d26b1135",
   "metadata": {},
   "source": [
    "## Evaluation\n",
    "- Evaluate the model on the test data\n",
    "- Predictive power of the model (R2, RMSE)\n",
    "- Investigate the residuals\n",
    "- Describe and interpret the results"
   ]
  },
  {
   "cell_type": "markdown",
   "id": "c4205913",
   "metadata": {},
   "source": [
    "Calculate the Squared Residuals for X and y using the test data (new data see overfitting etc.)"
   ]
  },
  {
   "cell_type": "code",
   "execution_count": 188,
   "id": "de110e48",
   "metadata": {},
   "outputs": [
    {
     "data": {
      "text/plain": [
       "0.03406417522299976"
      ]
     },
     "execution_count": 188,
     "metadata": {},
     "output_type": "execute_result"
    }
   ],
   "source": [
    "r2_score(y_test, y_test_p) #this gives the model fit (R2) for the Y and predicted Y"
   ]
  },
  {
   "cell_type": "markdown",
   "id": "6557e5a6",
   "metadata": {},
   "source": [
    "The R^2 is 0.034, which means 3,4% of the variation in avarage steps can be explained by the model.\n",
    "That's bad but no surprise because, every this are a lot of independent variables."
   ]
  },
  {
   "cell_type": "code",
   "execution_count": 189,
   "id": "42ee1909",
   "metadata": {},
   "outputs": [
    {
     "data": {
      "text/plain": [
       "2863.2605654700983"
      ]
     },
     "execution_count": 189,
     "metadata": {},
     "output_type": "execute_result"
    }
   ],
   "source": [
    "math.sqrt(mean_squared_error(y_test, y_test_p)) #this gives the model fit (R2) for the Y and predicted Y"
   ]
  },
  {
   "cell_type": "markdown",
   "id": "213222b0",
   "metadata": {},
   "source": [
    "The RSME gives us 2863,26 steps which is not better than the prediction based alone on the distribution of steps and SD, which means also means that this model is pretty poor."
   ]
  }
 ],
 "metadata": {
  "kernelspec": {
   "display_name": "Python 3 (ipykernel)",
   "language": "python",
   "name": "python3"
  },
  "language_info": {
   "codemirror_mode": {
    "name": "ipython",
    "version": 3
   },
   "file_extension": ".py",
   "mimetype": "text/x-python",
   "name": "python",
   "nbconvert_exporter": "python",
   "pygments_lexer": "ipython3",
   "version": "3.8.12"
  }
 },
 "nbformat": 4,
 "nbformat_minor": 5
}
